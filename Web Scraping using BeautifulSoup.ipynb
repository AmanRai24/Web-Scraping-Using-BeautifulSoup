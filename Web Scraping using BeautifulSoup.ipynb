{
 "cells": [
  {
   "cell_type": "code",
   "execution_count": 9,
   "metadata": {},
   "outputs": [],
   "source": [
    "from bs4 import BeautifulSoup as bs\n",
    "import requests\n",
    "import pandas as pd "
   ]
  },
  {
   "cell_type": "code",
   "execution_count": 10,
   "metadata": {},
   "outputs": [],
   "source": [
    "r=requests.get('https://www.imdb.com/india/top-rated-indian-movies/?pf_rd_m=A2FGELUUNOQJNL&pf_rd_p=f299869f-a183-4a64-a887-6491356429b6&pf_rd_r=8FTWTF61Z05KPGH4T0X1&pf_rd_s=right-4&pf_rd_t=15061&pf_rd_i=homepage&ref_=hm_india_tr_rhs_1')\n",
    "soup=bs(r.text,'lxml')"
   ]
  },
  {
   "cell_type": "code",
   "execution_count": 11,
   "metadata": {},
   "outputs": [],
   "source": [
    "names=[]\n",
    "links=[]\n",
    "ratings=[]\n",
    "div=soup.find('div',{'class':'lister'})\n",
    "rows=div.find_all('tr')\n",
    "for row in rows[1:]:\n",
    "    req_cols=row.find_all('td')\n",
    "    #appending names\n",
    "    req_col=req_cols[1]\n",
    "    names.append(req_col.a.text)\n",
    "    #appending links\n",
    "    links.append('https://www.imdb.com/'+req_col.a.get('href'))\n",
    "    #ratings\n",
    "    req_col=req_cols[2]\n",
    "    ratings.append(req_col.strong.text)"
   ]
  },
  {
   "cell_type": "code",
   "execution_count": 12,
   "metadata": {},
   "outputs": [],
   "source": [
    "data=pd.DataFrame({'Name':names,'links':links,'Rating':ratings})\n",
    "data.to_csv('rating.csv',sep=',',header=True,index=False)"
   ]
  },
  {
   "cell_type": "code",
   "execution_count": null,
   "metadata": {},
   "outputs": [],
   "source": []
  }
 ],
 "metadata": {
  "kernelspec": {
   "display_name": "Python 3",
   "language": "python",
   "name": "python3"
  },
  "language_info": {
   "codemirror_mode": {
    "name": "ipython",
    "version": 3
   },
   "file_extension": ".py",
   "mimetype": "text/x-python",
   "name": "python",
   "nbconvert_exporter": "python",
   "pygments_lexer": "ipython3",
   "version": "3.7.1"
  }
 },
 "nbformat": 4,
 "nbformat_minor": 2
}
